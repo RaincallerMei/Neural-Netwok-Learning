{
  "nbformat": 4,
  "nbformat_minor": 0,
  "metadata": {
    "colab": {
      "provenance": [],
      "authorship_tag": "ABX9TyNB9Ni39DtijTDdBWpYfmcJ",
      "include_colab_link": true
    },
    "kernelspec": {
      "name": "python3",
      "display_name": "Python 3"
    },
    "language_info": {
      "name": "python"
    }
  },
  "cells": [
    {
      "cell_type": "markdown",
      "metadata": {
        "id": "view-in-github",
        "colab_type": "text"
      },
      "source": [
        "<a href=\"https://colab.research.google.com/github/RaincallerMei/Neural-Netwok-Learning/blob/main/MNIST_CNN.ipynb\" target=\"_parent\"><img src=\"https://colab.research.google.com/assets/colab-badge.svg\" alt=\"Open In Colab\"/></a>"
      ]
    },
    {
      "cell_type": "code",
      "execution_count": 1,
      "metadata": {
        "id": "ph9G5B2dwY73"
      },
      "outputs": [],
      "source": [
        "import torch\n",
        "import torch.nn as nn\n",
        "import torch.nn.functional as F\n",
        "from torch.utils.data import DataLoader\n",
        "from torchvision import datasets, transforms #datasets contains MNIST\n",
        "from torchvision.utils import make_grid #Combines multiple images (e.g., a batch of tensors) into a single grid image\n",
        "\n",
        "import numpy as np\n",
        "import pandas as pd\n",
        "from sklearn.metrics import confusion_matrix\n",
        "import matplotlib.pyplot as plt\n",
        "\n",
        "%matplotlib inline\n"
      ]
    },
    {
      "cell_type": "code",
      "source": [
        "# Convert MNIST Image Files into a Tensor of 4-Dimensions (# of images, Height, Width, Color Channels)\n",
        "# allows us to do fancy shi\n",
        "transform = transforms.ToTensor()"
      ],
      "metadata": {
        "id": "aoavh7fy0MC6"
      },
      "execution_count": 2,
      "outputs": []
    },
    {
      "cell_type": "code",
      "source": [
        "#root='/cnn_data' saves the code to local Google Collab, and download = True downloads MNIST data\n",
        "train_data = datasets.MNIST(root='/cnn_data', train=True, download=True, transform=transform)\n",
        "# Test Data\n",
        "test_data = datasets.MNIST(root='/cnn_data', train=False, download=True, transform=transform) # why is it automatically smaller in size?\n",
        "\n",
        "print(train_data)\n",
        "print(test_data)"
      ],
      "metadata": {
        "colab": {
          "base_uri": "https://localhost:8080/"
        },
        "id": "bTCEm-Q11OxW",
        "outputId": "a09aece3-133b-4675-d89e-471ec733c065"
      },
      "execution_count": 20,
      "outputs": [
        {
          "output_type": "stream",
          "name": "stdout",
          "text": [
            "Dataset MNIST\n",
            "    Number of datapoints: 60000\n",
            "    Root location: /cnn_data\n",
            "    Split: Train\n",
            "    StandardTransform\n",
            "Transform: ToTensor()\n",
            "Dataset MNIST\n",
            "    Number of datapoints: 10000\n",
            "    Root location: /cnn_data\n",
            "    Split: Test\n",
            "    StandardTransform\n",
            "Transform: ToTensor()\n"
          ]
        }
      ]
    },
    {
      "cell_type": "code",
      "source": [
        "# Create a small batch size for images...let's say 10\n",
        "train_loader = DataLoader(train_data, batch_size=10, shuffle=True) #load data\n",
        "test_loader = DataLoader(test_data, batch_size=10, shuffle=False)"
      ],
      "metadata": {
        "id": "hj_BhdDV2fOp"
      },
      "execution_count": 4,
      "outputs": []
    },
    {
      "cell_type": "code",
      "source": [
        "#Define the CNN Model\n",
        "# Describe convolutional layers and what it's doing (2 convolutional layers)\n",
        "conv1 = nn.Conv2d(1, 6, 3, 1)#in/out channel, kernel size, stride\n",
        "conv2 = nn.Conv2d(6, 16, 3, 1)\n",
        "\n",
        "# Grab 1 MNIST record/image\n",
        "for i, (X_train, y_train) in enumerate(train_data):\n",
        "  break\n",
        "\n",
        "# X_train data had torch.Size([1, 28, 28]), which doesn't include \"channels\" that evaluates the picture's \"greyscale\"\n",
        "x = X_train.view(1,1,28,28)\n",
        "\n",
        "# Perform our first convolution\n",
        "x = F.relu(conv1(x)) # Rectified Linear Unit for our activation function\n",
        "\n",
        "# 1 single image, 6 is the filters we asked for, 26x26\n",
        "x.shape"
      ],
      "metadata": {
        "colab": {
          "base_uri": "https://localhost:8080/"
        },
        "id": "LKTGZ3q14226",
        "outputId": "df07fe5e-3da8-4885-8f9d-57463ac68376"
      },
      "execution_count": 8,
      "outputs": [
        {
          "output_type": "execute_result",
          "data": {
            "text/plain": [
              "torch.Size([1, 6, 26, 26])"
            ]
          },
          "metadata": {},
          "execution_count": 8
        }
      ]
    },
    {
      "cell_type": "code",
      "source": [
        "# pass thru the pooling layer\n",
        "x = F.max_pool2d(x,2,2) #kernel size, stride\n",
        "\n",
        "# Do our second convolutional layer\n",
        "x = F.relu(conv2(x))\n",
        "\n",
        "# Pooling layer again\n",
        "x = F.max_pool2d(x,2,2)\n",
        "\n",
        "x.shape # ((26/2)-2)/2"
      ],
      "metadata": {
        "colab": {
          "base_uri": "https://localhost:8080/"
        },
        "id": "SZ9bo8kd5roo",
        "outputId": "a5636451-0045-4052-bf27-a1e8bf2f8665"
      },
      "execution_count": 9,
      "outputs": [
        {
          "output_type": "execute_result",
          "data": {
            "text/plain": [
              "torch.Size([1, 16, 5, 5])"
            ]
          },
          "metadata": {},
          "execution_count": 9
        }
      ]
    },
    {
      "cell_type": "code",
      "source": [
        "#Real Model\n",
        "\n",
        "class ConvolutionalNetwork(nn.Module):\n",
        "  def __init__(self):\n",
        "    super().__init__() #calls the parent(nn.Module)'s init\n",
        "    self.conv1 = nn.Conv2d(1, 6, 3, 1)\n",
        "    self.conv2 = nn.Conv2d(6, 16, 3, 1)\n",
        "    #Fully Connected after convolution\n",
        "    self.fc1 = nn.Linear(5*5*16, 120) #why these 120, 84, and 10?\n",
        "    self.fc2 = nn.Linear(120, 84)\n",
        "    self.fc3 = nn.Linear(84, 10)\n",
        "\n",
        "  def forward(self, X):\n",
        "    X = F.relu(self.conv1(X))\n",
        "    X = F.max_pool2d(X, 2, 2)\n",
        "    X = F.relu(self.conv2(X))\n",
        "    X = F.max_pool2d(X, 2, 2)\n",
        "\n",
        "    X = X.view(-1, 5*5*16) # -1 so that we can vary the batch size\n",
        "    X = F.relu(self.fc1(X))\n",
        "    X = F.relu(self.fc2(X))\n",
        "    X = self.fc3(X)\n",
        "    # no more relu because the last layer is meant to have its logits being evaluated as probabilities (using softmax),\n",
        "    # clipping negative logits to 0 could distort the probability calculation\n",
        "    return F.log_softmax(X, dim=1)"
      ],
      "metadata": {
        "id": "APjFsP_W5uuJ"
      },
      "execution_count": 10,
      "outputs": []
    },
    {
      "cell_type": "code",
      "source": [
        "torch.manual_seed(101)\n",
        "model = ConvolutionalNetwork()\n",
        "model"
      ],
      "metadata": {
        "colab": {
          "base_uri": "https://localhost:8080/"
        },
        "id": "F4Slouu-JZDM",
        "outputId": "cc36d2ba-86d2-402e-98aa-fb2467c98dbd"
      },
      "execution_count": 11,
      "outputs": [
        {
          "output_type": "execute_result",
          "data": {
            "text/plain": [
              "ConvolutionalNetwork(\n",
              "  (conv1): Conv2d(1, 6, kernel_size=(3, 3), stride=(1, 1))\n",
              "  (conv2): Conv2d(6, 16, kernel_size=(3, 3), stride=(1, 1))\n",
              "  (fc1): Linear(in_features=400, out_features=120, bias=True)\n",
              "  (fc2): Linear(in_features=120, out_features=84, bias=True)\n",
              "  (fc3): Linear(in_features=84, out_features=10, bias=True)\n",
              ")"
            ]
          },
          "metadata": {},
          "execution_count": 11
        }
      ]
    },
    {
      "cell_type": "code",
      "source": [
        "# Loss Function Optimizer\n",
        "criterion = nn.CrossEntropyLoss()\n",
        "optimizer = torch.optim.Adam(model.parameters(), lr=0.001)"
      ],
      "metadata": {
        "id": "JHPKgppbJfT2"
      },
      "execution_count": 12,
      "outputs": []
    },
    {
      "cell_type": "code",
      "source": [
        "#training!\n",
        "import time\n",
        "start_time = time.time()\n",
        "\n",
        "epoch = 5\n",
        "train_losses = []\n",
        "test_losses = []\n",
        "train_correct = []\n",
        "test_correct = []\n",
        "\n",
        "for i in range(epoch):\n",
        "  trn_corr = 0\n",
        "  tst_corr = 0\n",
        "  #train\n",
        "  for b, (X_train, y_train) in enumerate(train_loader): #training dataset\n",
        "    b+=1\n",
        "    y_pred = model(X_train)\n",
        "    loss = criterion(y_pred, y_train)\n",
        "\n",
        "    #--------------------------------------TODO: The Key of CNN --------------------------------------\n",
        "    predicted = torch.max(y_pred.data, 1)[1]\n",
        "    #torch.max is a tuple (values, indices): the indice of the max value in predicted data, which is the suggested result\n",
        "    batch_corr = (predicted == y_train).sum() # how many correct we get from batch\n",
        "    trn_corr += batch_corr # keep track as we go along in training\n",
        "\n",
        "    # Update our parameters. TODO: Classical Deep Learning Training.\n",
        "    optimizer.zero_grad() # don't upgrade\n",
        "    loss.backward()\n",
        "    optimizer.step()\n",
        "\n",
        "    #-------------------------------------------------------------------------------------------\n",
        "    if b%600 == 0:\n",
        "      print(f'Epoch: {i}  Batch: {b}  Loss: {loss.item()}')\n",
        "\n",
        "  #for later future graphing\n",
        "  train_losses.append(loss)\n",
        "  train_correct.append(trn_corr)\n",
        "\n",
        "  #Test\n",
        "  with torch.no_grad():\n",
        "    for b, (X_test, y_test) in enumerate(test_loader):\n",
        "      y_val = model(X_test)\n",
        "      predicted = torch.max(y_val.data, 1)[1]\n",
        "      tst_corr += (predicted == y_test).sum() # how many correct we get from batch\n",
        "\n",
        "    loss = criterion(y_val, y_test) # y_val is predicted output from the last batch in the loop.\n",
        "    test_losses.append(loss)\n",
        "    test_correct.append(tst_corr)\n",
        "\n",
        "current_time = time.time()\n",
        "total = current_time - start_time\n",
        "print(f'Training Took: {total/60} minutes!')"
      ],
      "metadata": {
        "colab": {
          "base_uri": "https://localhost:8080/"
        },
        "collapsed": true,
        "id": "UtjFiqp4R9P-",
        "outputId": "40831f4b-4888-4fdd-97a8-32b69ed03179"
      },
      "execution_count": 15,
      "outputs": [
        {
          "output_type": "stream",
          "name": "stdout",
          "text": [
            "Epoch: 0  Batch: 600  Loss: 0.005089347250759602\n",
            "Epoch: 0  Batch: 1200  Loss: 0.0022438731975853443\n",
            "Epoch: 0  Batch: 1800  Loss: 0.010731656104326248\n",
            "Epoch: 0  Batch: 2400  Loss: 0.0031735505908727646\n",
            "Epoch: 0  Batch: 3000  Loss: 0.005839627701789141\n",
            "Epoch: 0  Batch: 3600  Loss: 0.0020766055677086115\n",
            "Epoch: 0  Batch: 4200  Loss: 0.02249031327664852\n",
            "Epoch: 0  Batch: 4800  Loss: 0.006959784775972366\n",
            "Epoch: 0  Batch: 5400  Loss: 0.03308510035276413\n",
            "Epoch: 0  Batch: 6000  Loss: 0.14472195506095886\n",
            "Epoch: 1  Batch: 600  Loss: 0.1914186030626297\n",
            "Epoch: 1  Batch: 1200  Loss: 0.005794129334390163\n",
            "Epoch: 1  Batch: 1800  Loss: 0.00035280294832773507\n",
            "Epoch: 1  Batch: 2400  Loss: 0.008586251176893711\n",
            "Epoch: 1  Batch: 3000  Loss: 0.015320053324103355\n",
            "Epoch: 1  Batch: 3600  Loss: 0.0004430475237313658\n",
            "Epoch: 1  Batch: 4200  Loss: 0.09077193588018417\n",
            "Epoch: 1  Batch: 4800  Loss: 0.0010667057940736413\n",
            "Epoch: 1  Batch: 5400  Loss: 0.0023563771974295378\n",
            "Epoch: 1  Batch: 6000  Loss: 0.003987060394138098\n",
            "Epoch: 2  Batch: 600  Loss: 0.007424911018460989\n",
            "Epoch: 2  Batch: 1200  Loss: 0.010708562098443508\n",
            "Epoch: 2  Batch: 1800  Loss: 0.0003704325936269015\n",
            "Epoch: 2  Batch: 2400  Loss: 0.0009866480249911547\n",
            "Epoch: 2  Batch: 3000  Loss: 0.0006863130256533623\n",
            "Epoch: 2  Batch: 3600  Loss: 0.003719201311469078\n",
            "Epoch: 2  Batch: 4200  Loss: 0.0017719485331326723\n",
            "Epoch: 2  Batch: 4800  Loss: 0.010884465649724007\n",
            "Epoch: 2  Batch: 5400  Loss: 2.733205838012509e-05\n",
            "Epoch: 2  Batch: 6000  Loss: 0.005117372609674931\n",
            "Epoch: 3  Batch: 600  Loss: 0.01433933712542057\n",
            "Epoch: 3  Batch: 1200  Loss: 0.015269595198333263\n",
            "Epoch: 3  Batch: 1800  Loss: 0.024677572771906853\n",
            "Epoch: 3  Batch: 2400  Loss: 0.0005842646351084113\n",
            "Epoch: 3  Batch: 3000  Loss: 0.00013462727656587958\n",
            "Epoch: 3  Batch: 3600  Loss: 0.00028079660842195153\n",
            "Epoch: 3  Batch: 4200  Loss: 7.857369928387925e-05\n",
            "Epoch: 3  Batch: 4800  Loss: 0.00010381061292719096\n",
            "Epoch: 3  Batch: 5400  Loss: 0.35671761631965637\n",
            "Epoch: 3  Batch: 6000  Loss: 0.01960691250860691\n",
            "Epoch: 4  Batch: 600  Loss: 8.844930562190711e-05\n",
            "Epoch: 4  Batch: 1200  Loss: 4.97096152685117e-06\n",
            "Epoch: 4  Batch: 1800  Loss: 0.2505780756473541\n",
            "Epoch: 4  Batch: 2400  Loss: 0.0005275583826005459\n",
            "Epoch: 4  Batch: 3000  Loss: 0.0004160028474871069\n",
            "Epoch: 4  Batch: 3600  Loss: 0.09984691441059113\n",
            "Epoch: 4  Batch: 4200  Loss: 0.00020187837071716785\n",
            "Epoch: 4  Batch: 4800  Loss: 0.0001789011002983898\n",
            "Epoch: 4  Batch: 5400  Loss: 6.337320519378409e-05\n",
            "Epoch: 4  Batch: 6000  Loss: 0.0018418444087728858\n",
            "Training Took: 3.9707300027211505 minutes!\n"
          ]
        }
      ]
    },
    {
      "cell_type": "code",
      "source": [
        "# Graph the loss at epoch\n",
        "train_losses = [tl.item() for tl in train_losses]\n",
        "plt.plot(train_losses, label=\"Training Loss\")\n",
        "plt.plot(test_losses, label=\"Validation Loss\")\n",
        "plt.title(\"Loss at Epoch\")\n",
        "plt.legend()"
      ],
      "metadata": {
        "colab": {
          "base_uri": "https://localhost:8080/",
          "height": 470
        },
        "id": "SyMgGVK5ii_v",
        "outputId": "20f5e312-7931-4317-f1f8-5e62ebcdaa15"
      },
      "execution_count": 16,
      "outputs": [
        {
          "output_type": "execute_result",
          "data": {
            "text/plain": [
              "<matplotlib.legend.Legend at 0x7da73e651690>"
            ]
          },
          "metadata": {},
          "execution_count": 16
        },
        {
          "output_type": "display_data",
          "data": {
            "text/plain": [
              "<Figure size 640x480 with 1 Axes>"
            ],
            "image/png": "[encoded data removed]"
          },
          "metadata": {}
        }
      ]
    },
    {
      "cell_type": "code",
      "source": [
        "# graph the accuracy at the end of each epoch\n",
        "plt.plot([t/600 for t in train_correct], label=\"Training Accuracy\")\n",
        "plt.plot([t/100 for t in test_correct], label=\"Validation Accuracy\")\n",
        "plt.title(\"Accuracy at the end of each Epoch\")\n",
        "plt.legend()"
      ],
      "metadata": {
        "colab": {
          "base_uri": "https://localhost:8080/",
          "height": 470
        },
        "id": "z68UWrE8jNAL",
        "outputId": "e1d55892-7066-4dbc-ef80-b10e5cf9663a"
      },
      "execution_count": 17,
      "outputs": [
        {
          "output_type": "execute_result",
          "data": {
            "text/plain": [
              "<matplotlib.legend.Legend at 0x7da73e653130>"
            ]
          },
          "metadata": {},
          "execution_count": 17
        },
        {
          "output_type": "display_data",
          "data": {
            "text/plain": [
              "<Figure size 640x480 with 1 Axes>"
            ],
            "image/png": "[encoded data removed]"
          },
          "metadata": {}
        }
      ]
    },
    {
      "cell_type": "code",
      "source": [
        "test_load_everything = DataLoader(test_data, batch_size=10000, shuffle=False) #\n",
        "\n",
        "with torch.no_grad():\n",
        "  correct = 0\n",
        "  for X_test, y_test in test_load_everything:\n",
        "    y_val = model(X_test)\n",
        "    predicted = torch.max(y_val, 1)[1]\n",
        "    correct += (predicted == y_test).sum()\n",
        "\n",
        "# Did for correct\n",
        "print(correct.item()/len(test_data)*100)"
      ],
      "metadata": {
        "colab": {
          "base_uri": "https://localhost:8080/"
        },
        "id": "7AAIv43Ojhtx",
        "outputId": "f932a496-9374-46e9-d9dd-bbbb4ab847de"
      },
      "execution_count": 18,
      "outputs": [
        {
          "output_type": "stream",
          "name": "stdout",
          "text": [
            "98.7\n"
          ]
        }
      ]
    },
    {
      "cell_type": "code",
      "source": [
        "# Grab a random image: Tensor with an image in it...at end, it shows the image-number (data, label)\n",
        "test_data[1978]\n",
        "\n",
        "# Grab just the data: (1, 28, 28), grey scale and x*y\n",
        "test_data[1978][0]\n",
        "\n",
        "# Reshape it. We are allowed to do so, because the intensity values are already captured in the (28, 28) structure. So the extra \"1\" in 3rd dimention is unnessisary\n",
        "# A grayscale image is represented by a single intensity value for each pixel, which is stored in a 2D grid of size 28x28.\n",
        "test_data[1978][0].reshape(28,28)\n",
        "\n",
        "# Show the image\n",
        "plt.imshow(test_data[1978][0].reshape(28,28)) #BOOOOMBACLAAAAAT"
      ],
      "metadata": {
        "colab": {
          "base_uri": "https://localhost:8080/",
          "height": 448
        },
        "id": "oVy1Yd-ykE2N",
        "outputId": "2c5225c3-0aaa-4169-8510-4146d0954381"
      },
      "execution_count": 19,
      "outputs": [
        {
          "output_type": "execute_result",
          "data": {
            "text/plain": [
              "<matplotlib.image.AxesImage at 0x7da73e0b2110>"
            ]
          },
          "metadata": {},
          "execution_count": 19
        },
        {
          "output_type": "display_data",
          "data": {
            "text/plain": [
              "<Figure size 640x480 with 1 Axes>"
            ],
            "image/png": "[encoded data removed]"
          },
          "metadata": {}
        }
      ]
    },
    {
      "cell_type": "code",
      "source": [
        "# Pass the image thru our model\n",
        "model.eval()\n",
        "with torch.no_grad():\n",
        "  new_prediction = model(test_data[1978][0].view(1,1,28,28)) # batch size of 1, 1 color channel, 28x28 image"
      ],
      "metadata": {
        "id": "gK7-GcyQnVOX"
      },
      "execution_count": 21,
      "outputs": []
    },
    {
      "cell_type": "code",
      "source": [
        "# Check the new prediction...get probabilities\n",
        "print(new_prediction)\n",
        "\n",
        "print(new_prediction.argmax()) #"
      ],
      "metadata": {
        "colab": {
          "base_uri": "https://localhost:8080/"
        },
        "id": "L7vFXa0RnWDe",
        "outputId": "aa9707b4-b791-4eac-efd7-39efcc1df9b1"
      },
      "execution_count": 23,
      "outputs": [
        {
          "output_type": "stream",
          "name": "stdout",
          "text": [
            "tensor([[-2.6150e+01, -1.7828e+01, -2.2572e+01, -2.3401e+01, -4.7684e-07,\n",
            "         -2.3021e+01, -1.5780e+01, -1.6879e+01, -1.8759e+01, -1.4971e+01]])\n",
            "tensor(4)\n"
          ]
        }
      ]
    }
  ]
}